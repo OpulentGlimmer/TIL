{
 "cells": [
  {
   "cell_type": "code",
   "execution_count": null,
   "id": "a745ac58",
   "metadata": {},
   "outputs": [],
   "source": [
    "# Tensorflow 1.0.일 때\n",
    "# sess.run(변수)함수는 Tensorflow 2.0.일 때는 쓰지 않는다."
   ]
  },
  {
   "cell_type": "code",
   "execution_count": 1,
   "id": "ef738f05",
   "metadata": {},
   "outputs": [],
   "source": [
    "import tensorflow.compat.v1 as tf"
   ]
  },
  {
   "cell_type": "code",
   "execution_count": 2,
   "id": "576b4321",
   "metadata": {},
   "outputs": [
    {
     "name": "stdout",
     "output_type": "stream",
     "text": [
      "WARNING:tensorflow:From C:\\ProgramData\\Anaconda3\\lib\\site-packages\\tensorflow\\python\\compat\\v2_compat.py:96: disable_resource_variables (from tensorflow.python.ops.variable_scope) is deprecated and will be removed in a future version.\n",
      "Instructions for updating:\n",
      "non-resource variables are not supported in the long term\n"
     ]
    }
   ],
   "source": [
    "tf.disable_v2_behavior()"
   ]
  },
  {
   "cell_type": "code",
   "execution_count": 3,
   "id": "e67cfdd2",
   "metadata": {},
   "outputs": [],
   "source": [
    "import numpy as np\n",
    "import pandas as pd"
   ]
  },
  {
   "cell_type": "code",
   "execution_count": 4,
   "id": "231e508b",
   "metadata": {},
   "outputs": [
    {
     "name": "stdout",
     "output_type": "stream",
     "text": [
      "Tensor(\"Add:0\", shape=(), dtype=int32)\n"
     ]
    }
   ],
   "source": [
    "a = tf.add(3, 5)\n",
    "print(a)\n",
    "\n",
    "# tf.add( 3, 5)하면 결과값이 8이 안 나오고, a의 빈 값이 나오며 값이 계산되지 않는다.\n",
    "# 현재 a는 값이 없는 상태이다.\n",
    "# 변수명을 계산그래프로 그대로 쓰면 겹쳐질 수 있어서 add:0이 만들어 진 것이다.\n",
    "# name =\"\"로도 add:0을 변경할 수 있다.\n",
    "# shpae(): 어떤 행렬을 말할 수 있는 지를 말한다.\n",
    "# dtype: 어떤 타입인지를 나타낸다."
   ]
  },
  {
   "cell_type": "code",
   "execution_count": 6,
   "id": "077d413a",
   "metadata": {},
   "outputs": [
    {
     "name": "stdout",
     "output_type": "stream",
     "text": [
      "8\n"
     ]
    }
   ],
   "source": [
    "sess = tf.Session()\n",
    "with tf.Session() as sess:\n",
    "    print(sess.run(a))\n",
    "\n",
    "# sees.run함수를 써서 a변수에 있는 값을 계산할 수 있다.\n",
    "# Session 일꾼을 뜻하며, run한 다음에 바로바로 close해야 한다.\n",
    "# with tf.Session as sess:를 하면 sess.close()할 필요가 없다."
   ]
  },
  {
   "cell_type": "code",
   "execution_count": 9,
   "id": "fe2ecbea",
   "metadata": {},
   "outputs": [],
   "source": [
    "# tf.add: 더하다. (2, 3) : 2 + 3을 뜻한다.\n",
    "# tf.run하기 전까지는 빈 값이며, op1에 있는 값이 계산되지 않는다.\n",
    "# tf.run했을 경우 결과값은 5가 나온다.\n",
    "\n",
    "# tf.multiply: 제곱하다. (2, 3) : 2 * 3을 뜻한다.\n",
    "# tf.run하기 전까지는 빈 값이며, op2에 있는 값이 계산되지 않는다.\n",
    "# tf.run했을 경우 결과값은 6이 나온다.\n",
    "\n",
    "# tf.pow: 제곱하다 (6, 5) : 6의 5승을 뜻한다.\n",
    "# tf.run하기 전까지는 빈 값이며, op3에 있는 값이 계산되지 않는다.\n",
    "# tf.run했을 경우 결과값은 7776이 나온다."
   ]
  },
  {
   "cell_type": "code",
   "execution_count": 10,
   "id": "b7210408",
   "metadata": {},
   "outputs": [],
   "source": [
    "x = 2\n",
    "y = 3\n",
    "\n",
    "op1 = tf.add(x, y)\n",
    "op2 = tf.multiply(x, y)\n",
    "op3 = tf.pow(op2, op1)"
   ]
  },
  {
   "cell_type": "code",
   "execution_count": 28,
   "id": "e2af3b9d",
   "metadata": {},
   "outputs": [],
   "source": [
    "# tf.add(x, y), tf.multiply(x, y), tf.pow(op2, op1)\n",
    "# tf.run()함수를 적용하기 전까지는 그 변수에 들어있는 값은 빈 값이며, 그 값은 계산되지 않는다."
   ]
  },
  {
   "cell_type": "code",
   "execution_count": 27,
   "id": "b1ee124e",
   "metadata": {
    "scrolled": true
   },
   "outputs": [
    {
     "name": "stdout",
     "output_type": "stream",
     "text": [
      "Tensor(\"Add_2:0\", shape=(), dtype=int32)\n",
      "Tensor(\"Mul_1:0\", shape=(), dtype=int32)\n",
      "Tensor(\"Pow_1:0\", shape=(), dtype=int32)\n"
     ]
    }
   ],
   "source": [
    "print(op1)\n",
    "print(op2)\n",
    "print(op3)"
   ]
  },
  {
   "cell_type": "code",
   "execution_count": 34,
   "id": "49787759",
   "metadata": {},
   "outputs": [],
   "source": [
    "# tf.run(op3)했을 경우에 op2, op1이 연결되어 있어서 op2, op1도 같이 실행된다.\n",
    "# 따라서 op3만 실행해도 연결되어 있는 op2, op1가 실행되므로 마지막 변수인 op3만 실행해도 된다."
   ]
  },
  {
   "cell_type": "code",
   "execution_count": 13,
   "id": "303c196a",
   "metadata": {},
   "outputs": [
    {
     "name": "stdout",
     "output_type": "stream",
     "text": [
      "7776\n"
     ]
    }
   ],
   "source": [
    "with tf.Session() as sess:\n",
    "    print(sess.run(op3))"
   ]
  },
  {
   "cell_type": "code",
   "execution_count": 35,
   "id": "ad54046c",
   "metadata": {},
   "outputs": [],
   "source": [
    "# 연결된 변수만 실행된다.\n",
    "# 연산에 관련이 있는 변수만 연결시켜서 실행시켜야 한다.\n",
    "# 연산에 관련이 없는 변수는 연결시키지 말아야 한다."
   ]
  },
  {
   "cell_type": "code",
   "execution_count": 31,
   "id": "ef413edf",
   "metadata": {},
   "outputs": [],
   "source": [
    "x = 2\n",
    "y = 3\n",
    "\n",
    "op1 = tf.add(x, y)\n",
    "op2 = tf.multiply(x, y)\n",
    "useless = tf.multiply(x, op1)\n",
    "op3 = tf.pow(op2, op1)"
   ]
  },
  {
   "cell_type": "code",
   "execution_count": 37,
   "id": "4f393cc3",
   "metadata": {},
   "outputs": [],
   "source": [
    "# 연산에 관련이 있는 변수만 연결이 되어서 실행된다.\n",
    "# 연산에 관련이 없는 변수는 연결이 되어 있지 않아서 실행되지 않는다.\n",
    "# 여러 tensorflow을 실행하려면 리스트 형식으로 돌리면 된다."
   ]
  },
  {
   "cell_type": "code",
   "execution_count": 33,
   "id": "fdcb48f9",
   "metadata": {},
   "outputs": [
    {
     "name": "stdout",
     "output_type": "stream",
     "text": [
      "7776 10\n"
     ]
    }
   ],
   "source": [
    "with tf.Session() as sess:\n",
    "    op3, useless = sess.run([op3, useless])\n",
    "    print(op3, useless)"
   ]
  },
  {
   "cell_type": "code",
   "execution_count": 23,
   "id": "13a85856",
   "metadata": {},
   "outputs": [],
   "source": [
    "# Method 1"
   ]
  },
  {
   "cell_type": "code",
   "execution_count": 16,
   "id": "658e4d3d",
   "metadata": {},
   "outputs": [],
   "source": [
    "import tensorflow.compat.v1 as tf"
   ]
  },
  {
   "cell_type": "code",
   "execution_count": 17,
   "id": "c76e07d5",
   "metadata": {},
   "outputs": [],
   "source": [
    "tf.disable_v2_behavior()"
   ]
  },
  {
   "cell_type": "code",
   "execution_count": 18,
   "id": "8ed1f9de",
   "metadata": {},
   "outputs": [],
   "source": [
    "import numpy as np\n",
    "import pandas as pd\n",
    "import matplotlib.pyplot as plt\n",
    "from sklearn import datasets"
   ]
  },
  {
   "cell_type": "code",
   "execution_count": 19,
   "id": "06c30efa",
   "metadata": {},
   "outputs": [
    {
     "data": {
      "text/html": [
       "<div>\n",
       "<style scoped>\n",
       "    .dataframe tbody tr th:only-of-type {\n",
       "        vertical-align: middle;\n",
       "    }\n",
       "\n",
       "    .dataframe tbody tr th {\n",
       "        vertical-align: top;\n",
       "    }\n",
       "\n",
       "    .dataframe thead th {\n",
       "        text-align: right;\n",
       "    }\n",
       "</style>\n",
       "<table border=\"1\" class=\"dataframe\">\n",
       "  <thead>\n",
       "    <tr style=\"text-align: right;\">\n",
       "      <th></th>\n",
       "      <th>0</th>\n",
       "      <th>1</th>\n",
       "    </tr>\n",
       "  </thead>\n",
       "  <tbody>\n",
       "    <tr>\n",
       "      <th>0</th>\n",
       "      <td>4.98</td>\n",
       "      <td>24.0</td>\n",
       "    </tr>\n",
       "    <tr>\n",
       "      <th>1</th>\n",
       "      <td>9.14</td>\n",
       "      <td>21.6</td>\n",
       "    </tr>\n",
       "    <tr>\n",
       "      <th>2</th>\n",
       "      <td>4.03</td>\n",
       "      <td>34.7</td>\n",
       "    </tr>\n",
       "    <tr>\n",
       "      <th>3</th>\n",
       "      <td>2.94</td>\n",
       "      <td>33.4</td>\n",
       "    </tr>\n",
       "    <tr>\n",
       "      <th>4</th>\n",
       "      <td>5.33</td>\n",
       "      <td>36.2</td>\n",
       "    </tr>\n",
       "  </tbody>\n",
       "</table>\n",
       "</div>"
      ],
      "text/plain": [
       "      0     1\n",
       "0  4.98  24.0\n",
       "1  9.14  21.6\n",
       "2  4.03  34.7\n",
       "3  2.94  33.4\n",
       "4  5.33  36.2"
      ]
     },
     "execution_count": 19,
     "metadata": {},
     "output_type": "execute_result"
    }
   ],
   "source": [
    "x_data = datasets.load_boston().data[:, 12]  # 주변 이웃 중 하위 계층의 비율\n",
    "y_data = datasets.load_boston().target  # 집의 가격 (in $1,000s)\n",
    "df = pd.DataFrame([x_data, y_data]).transpose()\n",
    "df.head()"
   ]
  },
  {
   "cell_type": "code",
   "execution_count": 22,
   "id": "f8dc5e17",
   "metadata": {},
   "outputs": [
    {
     "data": {
      "text/html": [
       "<div>\n",
       "<style scoped>\n",
       "    .dataframe tbody tr th:only-of-type {\n",
       "        vertical-align: middle;\n",
       "    }\n",
       "\n",
       "    .dataframe tbody tr th {\n",
       "        vertical-align: top;\n",
       "    }\n",
       "\n",
       "    .dataframe thead th {\n",
       "        text-align: right;\n",
       "    }\n",
       "</style>\n",
       "<table border=\"1\" class=\"dataframe\">\n",
       "  <thead>\n",
       "    <tr style=\"text-align: right;\">\n",
       "      <th></th>\n",
       "      <th>0</th>\n",
       "      <th>1</th>\n",
       "    </tr>\n",
       "  </thead>\n",
       "  <tbody>\n",
       "    <tr>\n",
       "      <th>0</th>\n",
       "      <td>4.98</td>\n",
       "      <td>24.0</td>\n",
       "    </tr>\n",
       "    <tr>\n",
       "      <th>1</th>\n",
       "      <td>9.14</td>\n",
       "      <td>21.6</td>\n",
       "    </tr>\n",
       "    <tr>\n",
       "      <th>2</th>\n",
       "      <td>4.03</td>\n",
       "      <td>34.7</td>\n",
       "    </tr>\n",
       "    <tr>\n",
       "      <th>3</th>\n",
       "      <td>2.94</td>\n",
       "      <td>33.4</td>\n",
       "    </tr>\n",
       "    <tr>\n",
       "      <th>4</th>\n",
       "      <td>5.33</td>\n",
       "      <td>36.2</td>\n",
       "    </tr>\n",
       "  </tbody>\n",
       "</table>\n",
       "</div>"
      ],
      "text/plain": [
       "      0     1\n",
       "0  4.98  24.0\n",
       "1  9.14  21.6\n",
       "2  4.03  34.7\n",
       "3  2.94  33.4\n",
       "4  5.33  36.2"
      ]
     },
     "execution_count": 22,
     "metadata": {},
     "output_type": "execute_result"
    }
   ],
   "source": [
    "# Method 2\n",
    "\n",
    "# scikit-learn 1.2 부터 삭제된 boston_data 불러오기\n",
    "#`load_boston` has been removed from scikit-learn since version 1.2.\n",
    "\n",
    "data_url = \"http://lib.stat.cmu.edu/datasets/boston\"\n",
    "raw_df = pd.read_csv(data_url, sep=\"\\s+\", skiprows=22, header=None)\n",
    "data = np.hstack([raw_df.values[::2, :], raw_df.values[1::2, :2]])\n",
    "target = raw_df.values[1:   :2, 2]\n",
    "# x_data = datasets.load_boston().data[:, 12] # 주변 이웃 중 하위 계층의 비율\n",
    "x_data = data[:,12]\n",
    "y_data = target # 집의 가격 (in $1,000s)\n",
    "df = pd.DataFrame([x_data, y_data]).transpose()\n",
    "df.head()"
   ]
  },
  {
   "cell_type": "code",
   "execution_count": null,
   "id": "bd60a604",
   "metadata": {},
   "outputs": [],
   "source": [
    "# tf.train.GradientDescentOptimizer (0.001은 learning rate를 의미한다. 예를 들면 심부름꾼을 연상하면 된다.\n",
    "# learning rate: 얼마나 큰 보폭으로 움직이는지 결정해 주는 값"
   ]
  },
  {
   "cell_type": "code",
   "execution_count": 20,
   "id": "4a170598",
   "metadata": {},
   "outputs": [],
   "source": [
    "w = tf.Variable(tf.random_normal([1]))\n",
    "b = tf.Variable(tf.random_normal([1]))\n",
    "\n",
    "y_predicted = w * x_data + b"
   ]
  },
  {
   "cell_type": "code",
   "execution_count": 21,
   "id": "a0d74e2a",
   "metadata": {},
   "outputs": [],
   "source": [
    "loss = tf.reduce_mean(tf.square(y_predicted - y_data))\n",
    "optimizer = tf.train.GradientDescentOptimizer(0.001)\n",
    "train = optimizer.minimize(loss)"
   ]
  },
  {
   "cell_type": "code",
   "execution_count": 38,
   "id": "6cbad283",
   "metadata": {},
   "outputs": [],
   "source": [
    "# tf.Session(): Session 여는 것을 의미\n",
    "# tf.global_variables_initializer()는 w값과 b값을 초기화하는 것을 의미\n",
    "# for step in range(10000) : 10,000은 epock를 의미\n",
    "# epock: 전체 데이터가 몇 번 있는 것을 의미\n",
    "# sess.run(train)\n",
    "# print('step {}: w {} b {}'.format(step, sess.run(w), sess.run(b))) : 결과(evaluaion) - 현재 epock, w, b가 출력된다."
   ]
  },
  {
   "cell_type": "code",
   "execution_count": 24,
   "id": "85b4d651",
   "metadata": {},
   "outputs": [
    {
     "name": "stdout",
     "output_type": "stream",
     "text": [
      "step 0: w [0.7393618] b [-0.55274695]\n",
      "loss 372.2628173828125\n",
      "\n",
      "step 1000: w [0.35218218] b [12.863438]\n",
      "loss 151.9666290283203\n",
      "\n",
      "step 2000: w [-0.14489883] b [21.142984]\n",
      "loss 81.8651351928711\n",
      "\n",
      "step 3000: w [-0.45223734] b [26.26212]\n",
      "loss 55.0669059753418\n",
      "\n",
      "step 4000: w [-0.6422605] b [29.427208]\n",
      "loss 44.82257843017578\n",
      "\n",
      "step 5000: w [-0.7597485] b [31.384127]\n",
      "loss 40.90644454956055\n",
      "\n",
      "step 6000: w [-0.8323896] b [32.59406]\n",
      "loss 39.409400939941406\n",
      "\n",
      "step 7000: w [-0.87730235] b [33.342144]\n",
      "loss 38.83711624145508\n",
      "\n",
      "step 8000: w [-0.9050703] b [33.804653]\n",
      "loss 38.61835479736328\n",
      "\n",
      "step 9000: w [-0.92223936] b [34.090626]\n",
      "loss 38.534725189208984\n",
      "\n"
     ]
    }
   ],
   "source": [
    "with tf.Session() as sess:\n",
    "    sess.run(tf.global_variables_initializer())  # tf.Variables 초기화\n",
    "    \n",
    "    for step in range(10000):\n",
    "        sess.run(train) # 실제로 Gradient Descent가 실행되는 코드\n",
    "        if step % 1000 == 0:\n",
    "            print('step {}: w {} b {}'.format(step, sess.run(w), sess.run(b)))\n",
    "            print('loss {}'.format(sess.run(loss)))\n",
    "            print()\n",
    "    w_out, b_out = sess.run([w, b])"
   ]
  },
  {
   "cell_type": "code",
   "execution_count": 25,
   "id": "c41e46f8",
   "metadata": {},
   "outputs": [],
   "source": [
    "# plt.figure(figsize=(10, 10)) : 도화지를 그리는 것을 연상하면 된다.\n",
    "# rabel : 범례\n",
    "# ro : 파란 원"
   ]
  },
  {
   "cell_type": "code",
   "execution_count": 26,
   "id": "0e85cb1a",
   "metadata": {},
   "outputs": [
    {
     "data": {
      "image/png": "[encoded data removed]",
      "text/plain": [
       "<Figure size 720x720 with 1 Axes>"
      ]
     },
     "metadata": {
      "needs_background": "light"
     },
     "output_type": "display_data"
    }
   ],
   "source": [
    "plt.figure(figsize=(10, 10))\n",
    "plt.plot(x_data, y_data, 'bo', label='Real data')\n",
    "plt.plot(x_data, x_data * w_out + b_out, 'ro', label='Prediction')\n",
    "plt.legend()\n",
    "plt.show()"
   ]
  },
  {
   "cell_type": "code",
   "execution_count": null,
   "id": "297dc6eb",
   "metadata": {},
   "outputs": [],
   "source": []
  },
  {
   "cell_type": "code",
   "execution_count": null,
   "id": "4623433e",
   "metadata": {},
   "outputs": [],
   "source": []
  },
  {
   "cell_type": "code",
   "execution_count": null,
   "id": "578e4635",
   "metadata": {},
   "outputs": [],
   "source": []
  }
 ],
 "metadata": {
  "kernelspec": {
   "display_name": "Python 3",
   "language": "python",
   "name": "python3"
  },
  "language_info": {
   "codemirror_mode": {
    "name": "ipython",
    "version": 3
   },
   "file_extension": ".py",
   "mimetype": "text/x-python",
   "name": "python",
   "nbconvert_exporter": "python",
   "pygments_lexer": "ipython3",
   "version": "3.8.8"
  }
 },
 "nbformat": 4,
 "nbformat_minor": 5
}
